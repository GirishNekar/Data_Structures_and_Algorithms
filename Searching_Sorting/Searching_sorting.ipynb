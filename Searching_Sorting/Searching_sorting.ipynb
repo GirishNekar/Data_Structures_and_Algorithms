{
 "cells": [
  {
   "cell_type": "markdown",
   "metadata": {},
   "source": [
    "\"\"\" <br>\n",
    "@Author: Girish<br>\n",
    "@Date: 2024-08-15<br>\n",
    "@Last Modified by: Girish<br>\n",
    "@Last Modified time: 2024-08-15<br>\n",
    "@Title: Searching and Sorting ALgorithms<br>\n",
    "\"\"\""
   ]
  },
  {
   "cell_type": "markdown",
   "metadata": {},
   "source": [
    "<h1>Searching Algorithms<h1>"
   ]
  },
  {
   "cell_type": "markdown",
   "metadata": {},
   "source": [
    "1. Linrear Search "
   ]
  },
  {
   "cell_type": "code",
   "execution_count": 1,
   "metadata": {},
   "outputs": [
    {
     "name": "stdout",
     "output_type": "stream",
     "text": [
      "Linear Search: 2\n"
     ]
    }
   ],
   "source": [
    "\n",
    "\n",
    "def linear_search(arr, target):\n",
    "    \n",
    "    \"\"\"\n",
    "    Description:\n",
    "        Performs a linear search for a target value in an array.\n",
    "\n",
    "    Parameters:\n",
    "        arr (list): The list to search through.\n",
    "        target (any): The value to search for.\n",
    "\n",
    "    Returns:\n",
    "        int: The index of the target value if found, otherwise -1.\n",
    "        \n",
    "    \"\"\"\n",
    "    \n",
    "    for index, value in enumerate(arr):\n",
    "        if value == target:\n",
    "            return index\n",
    "    return -1\n",
    "\n",
    "def main():\n",
    "\n",
    "    arr = [10, 20, 30, 40, 50]\n",
    "    target = 30\n",
    "    print(\"Linear Search:\", linear_search(arr, target))  \n",
    "\n",
    "if __name__ == \"__main__\":\n",
    "    main()\n"
   ]
  },
  {
   "cell_type": "markdown",
   "metadata": {},
   "source": [
    "2. Binary Search"
   ]
  },
  {
   "cell_type": "code",
   "execution_count": 2,
   "metadata": {},
   "outputs": [
    {
     "name": "stdout",
     "output_type": "stream",
     "text": [
      "Binary Search: 2\n"
     ]
    }
   ],
   "source": [
    "def binary_search(arr, target):\n",
    "    \n",
    "    \n",
    "    \"\"\"\n",
    "    Description:\n",
    "        Performs a binary search for a target value in a sorted array.\n",
    "\n",
    "    Parameters:\n",
    "        arr (list): The sorted list to search through.\n",
    "        target (any): The value to search for.\n",
    "\n",
    "    Returns:\n",
    "        int: The index of the target value if found, otherwise -1.\n",
    "    \"\"\"\n",
    "    \n",
    "    left, right = 0, len(arr) - 1\n",
    "    \n",
    "    while left <= right:\n",
    "        mid = (left + right) // 2\n",
    "        if arr[mid] == target:\n",
    "            return mid\n",
    "        elif arr[mid] < target:\n",
    "            left = mid + 1\n",
    "        else:\n",
    "            right = mid - 1\n",
    "            \n",
    "    return -1\n",
    "\n",
    "\n",
    "\n",
    "def main():\n",
    "    arr = [10, 20, 30, 40, 50]\n",
    "    target = 30\n",
    "    print(\"Binary Search:\", binary_search(arr, target))  \n",
    "\n",
    "\n",
    "\n",
    "if __name__ == \"__main__\":\n",
    "    main()\n"
   ]
  },
  {
   "cell_type": "markdown",
   "metadata": {},
   "source": [
    "3. Breadth First Search (BFS)"
   ]
  },
  {
   "cell_type": "code",
   "execution_count": 3,
   "metadata": {},
   "outputs": [
    {
     "name": "stdout",
     "output_type": "stream",
     "text": [
      "BFS: ['A', 'B', 'C', 'D', 'E', 'F']\n"
     ]
    }
   ],
   "source": [
    "\n",
    "from collections import deque\n",
    "\n",
    "def bfs(graph, start):\n",
    "    \n",
    "    \"\"\"\n",
    "    Description:\n",
    "        Performs Breadth-First Search (BFS) on a graph from the given starting node.\n",
    "\n",
    "    Parameters:\n",
    "        graph (dict): The adjacency list representation of the graph.\n",
    "        start (any): The starting node for BFS.\n",
    "\n",
    "    Returns:\n",
    "        list: A list of nodes in the order they were visited.\n",
    "    \"\"\"\n",
    "    \n",
    "    visited = set()\n",
    "    queue = deque([start])\n",
    "    result = []\n",
    "\n",
    "    while queue:\n",
    "        node = queue.popleft()\n",
    "        if node not in visited:\n",
    "            visited.add(node)\n",
    "            result.append(node)\n",
    "            queue.extend(neighbor for neighbor in graph[node] if neighbor not in visited)\n",
    "    \n",
    "    return result\n",
    "\n",
    "\n",
    "def main():\n",
    "\n",
    "    graph = {\n",
    "        'A': ['B', 'C'],\n",
    "        'B': ['A', 'D', 'E'],\n",
    "        'C': ['A', 'F'],\n",
    "        'D': ['B'],\n",
    "        'E': ['B', 'F'],\n",
    "        'F': ['C', 'E']\n",
    "    }\n",
    "\n",
    "    print(\"BFS:\", bfs(graph, 'A'))  \n",
    "\n",
    "if __name__ == \"__main__\":\n",
    "    main()\n"
   ]
  },
  {
   "cell_type": "markdown",
   "metadata": {},
   "source": [
    "4. Depth First Search (DFS)"
   ]
  },
  {
   "cell_type": "code",
   "execution_count": 4,
   "metadata": {},
   "outputs": [
    {
     "name": "stdout",
     "output_type": "stream",
     "text": [
      "DFS: ['A', 'B', 'D', 'E', 'F', 'C']\n"
     ]
    }
   ],
   "source": [
    "\n",
    "def dfs(graph, start, visited=None):\n",
    "    \n",
    "    \n",
    "    \"\"\"\n",
    "    Description:\n",
    "        Performs Depth-First Search (DFS) on a graph from the given starting node.\n",
    "\n",
    "    Parameters:\n",
    "        graph (dict): The adjacency list representation of the graph.\n",
    "        start (any): The starting node for DFS.\n",
    "        visited (set, optional): A set to keep track of visited nodes.\n",
    "\n",
    "    Returns:\n",
    "        list: A list of nodes in the order they were visited.\n",
    "    \"\"\"\n",
    "    \n",
    "    if visited is None:\n",
    "        visited = set()\n",
    "    visited.add(start)\n",
    "    result = [start]\n",
    "\n",
    "    for neighbor in graph[start]:\n",
    "        if neighbor not in visited:\n",
    "            result.extend(dfs(graph, neighbor, visited))\n",
    "\n",
    "    return result\n",
    "\n",
    "\n",
    "\n",
    "def main():\n",
    "    \"\"\"\n",
    "    Description:\n",
    "        Main function to demonstrate the usage of the DFS algorithm.\n",
    "\n",
    "    Returns:\n",
    "        None\n",
    "    \"\"\"\n",
    "    graph = {\n",
    "        'A': ['B', 'C'],\n",
    "        'B': ['D', 'E'],\n",
    "        'C': ['F'],\n",
    "        'D': [],\n",
    "        'E': ['F'],\n",
    "        'F': []\n",
    "    }\n",
    "\n",
    "    print(\"DFS:\", dfs(graph, 'A'))  \n",
    "\n",
    "if __name__ == \"__main__\":\n",
    "    main()\n"
   ]
  },
  {
   "cell_type": "markdown",
   "metadata": {},
   "source": [
    "<h1> Sorting Algorithms <h1>"
   ]
  },
  {
   "cell_type": "markdown",
   "metadata": {},
   "source": [
    "1 . Bubble Sort\n"
   ]
  },
  {
   "cell_type": "code",
   "execution_count": 5,
   "metadata": {},
   "outputs": [
    {
     "name": "stdout",
     "output_type": "stream",
     "text": [
      "Bubble Sort: [11, 12, 22, 25, 34, 64, 90]\n"
     ]
    }
   ],
   "source": [
    "\n",
    "\n",
    "def bubble_sort(arr):\n",
    "    \n",
    "    \"\"\"\n",
    "    Description:\n",
    "        Sorts an array using the Bubble Sort algorithm.\n",
    "\n",
    "    Parameters:\n",
    "        arr (list): The list to be sorted.\n",
    "\n",
    "    Returns:\n",
    "        None: The list is sorted in place.\n",
    "    \"\"\"\n",
    "    n = len(arr)\n",
    "    for i in range(n):\n",
    "        for j in range(0, n-i-1):\n",
    "            if arr[j] > arr[j+1]:\n",
    "                arr[j], arr[j+1] = arr[j+1], arr[j]\n",
    "\n",
    "def main():\n",
    "\n",
    "    arr = [64, 34, 25, 12, 22, 11, 90]\n",
    "    bubble_sort(arr)\n",
    "    print(\"Bubble Sort:\", arr)  \n",
    "\n",
    "if __name__ == \"__main__\":\n",
    "    main()\n"
   ]
  },
  {
   "cell_type": "code",
   "execution_count": 6,
   "metadata": {},
   "outputs": [
    {
     "name": "stdout",
     "output_type": "stream",
     "text": [
      "Insertion Sort: [11, 12, 22, 25, 34, 64, 90]\n"
     ]
    }
   ],
   "source": [
    "\n",
    "\n",
    "def insertion_sort(arr):\n",
    "    \"\"\"\n",
    "    Description:\n",
    "        Sorts an array using the Insertion Sort algorithm.\n",
    "\n",
    "    Parameters:\n",
    "        arr (list): The list to be sorted.\n",
    "\n",
    "    Returns:\n",
    "        None: The list is sorted in place.\n",
    "    \"\"\"\n",
    "    for i in range(1, len(arr)):\n",
    "        key = arr[i]\n",
    "        j = i - 1\n",
    "        while j >= 0 and key < arr[j]:\n",
    "            arr[j + 1] = arr[j]\n",
    "            j -= 1\n",
    "        arr[j + 1] = key\n",
    "\n",
    "def main():\n",
    "\n",
    "    arr = [64, 34, 25, 12, 22, 11, 90]\n",
    "    insertion_sort(arr)\n",
    "    print(\"Insertion Sort:\", arr) \n",
    "\n",
    "if __name__ == \"__main__\":\n",
    "    main()\n"
   ]
  },
  {
   "cell_type": "markdown",
   "metadata": {},
   "source": [
    "2.Selection Sort"
   ]
  },
  {
   "cell_type": "code",
   "execution_count": 7,
   "metadata": {},
   "outputs": [
    {
     "name": "stdout",
     "output_type": "stream",
     "text": [
      "Selection Sort: [11, 12, 22, 25, 34, 64, 90]\n"
     ]
    }
   ],
   "source": [
    "\n",
    "\n",
    "def selection_sort(arr):\n",
    "    \n",
    "    \"\"\"\n",
    "    Description:\n",
    "        Sorts an array using the Selection Sort algorithm.\n",
    "\n",
    "    Parameters:\n",
    "        arr (list): The list to be sorted.\n",
    "\n",
    "    Returns:\n",
    "        None: The list is sorted in place.\n",
    "    \"\"\"\n",
    "    \n",
    "    n = len(arr)\n",
    "    for i in range(n):\n",
    "        min_index = i\n",
    "        for j in range(i+1, n):\n",
    "            if arr[j] < arr[min_index]:\n",
    "                min_index = j\n",
    "        arr[i], arr[min_index] = arr[min_index], arr[i]\n",
    "\n",
    "def main():\n",
    "\n",
    "    arr = [64, 34, 25, 12, 22, 11, 90]\n",
    "    selection_sort(arr)\n",
    "    print(\"Selection Sort:\", arr)  \n",
    "\n",
    "if __name__ == \"__main__\":\n",
    "    main()\n"
   ]
  },
  {
   "cell_type": "markdown",
   "metadata": {},
   "source": [
    "3.Quick Sort"
   ]
  },
  {
   "cell_type": "code",
   "execution_count": 8,
   "metadata": {},
   "outputs": [
    {
     "name": "stdout",
     "output_type": "stream",
     "text": [
      "Quick Sort: [11, 12, 22, 25, 34, 64, 90]\n"
     ]
    }
   ],
   "source": [
    "\n",
    "def quick_sort(arr):\n",
    "    \n",
    "    \n",
    "    \"\"\"\n",
    "    Description:\n",
    "        Performs Quick Sort on an array.\n",
    "\n",
    "    Parameters:\n",
    "        arr (list): The list of elements to be sorted.\n",
    "\n",
    "    Returns:\n",
    "        None: The list is sorted in place.\n",
    "    \"\"\"\n",
    "    \n",
    "    \n",
    "    if len(arr) <= 1:\n",
    "        return\n",
    "\n",
    "    _quick_sort_helper(arr, 0, len(arr) - 1)\n",
    "\n",
    "\n",
    "\n",
    "def _quick_sort_helper(arr, low, high):\n",
    "    \n",
    "    \n",
    "    \"\"\"\n",
    "    Description:\n",
    "        Helper function to recursively sort sub-arrays using Quick Sort.\n",
    "\n",
    "    Parameters:\n",
    "        arr (list): The list of elements to be sorted.\n",
    "        low (int): The starting index of the sub-array.\n",
    "        high (int): The ending index of the sub-array.\n",
    "\n",
    "    Returns:\n",
    "        None: The sub-array is sorted in place.\n",
    "    \"\"\"\n",
    "    \n",
    "    \n",
    "    if low < high:\n",
    "        pivot_index = _partition(arr, low, high)\n",
    "        _quick_sort_helper(arr, low, pivot_index - 1)\n",
    "        _quick_sort_helper(arr, pivot_index + 1, high)\n",
    "\n",
    "\n",
    "\n",
    "def _partition(arr, low, high):\n",
    "    \n",
    "    \n",
    "    \"\"\"\n",
    "    Description:\n",
    "        Partitions the array around a pivot element.\n",
    "\n",
    "    Parameters:\n",
    "        arr (list): The list of elements to be partitioned.\n",
    "        low (int): The starting index of the sub-array.\n",
    "        high (int): The ending index of the sub-array.\n",
    "\n",
    "    Returns:\n",
    "        int: The index of the pivot element after partitioning.\n",
    "    \"\"\"\n",
    "    \n",
    "    \n",
    "    pivot = arr[high]\n",
    "    i = low - 1\n",
    "\n",
    "    for j in range(low, high):\n",
    "        if arr[j] < pivot:\n",
    "            i += 1\n",
    "            arr[i], arr[j] = arr[j], arr[i]\n",
    "\n",
    "    arr[i + 1], arr[high] = arr[high], arr[i + 1]\n",
    "    return i + 1\n",
    "\n",
    "\n",
    "\n",
    "def main():\n",
    "\n",
    "    arr = [64, 34, 25, 12, 22, 11, 90]\n",
    "    quick_sort(arr)\n",
    "    print(\"Quick Sort:\", arr)  \n",
    "\n",
    "if __name__ == \"__main__\":\n",
    "    main()\n"
   ]
  },
  {
   "cell_type": "markdown",
   "metadata": {},
   "source": [
    "4. Merge Sort"
   ]
  },
  {
   "cell_type": "code",
   "execution_count": 9,
   "metadata": {},
   "outputs": [
    {
     "name": "stdout",
     "output_type": "stream",
     "text": [
      "Merge Sort: [11, 12, 22, 25, 34, 64, 90]\n"
     ]
    }
   ],
   "source": [
    "\n",
    "def merge_sort(arr):\n",
    "    \n",
    "    \n",
    "    \"\"\"\n",
    "    Description:\n",
    "        Performs Merge Sort on an array.\n",
    "\n",
    "    Parameters:\n",
    "        arr (list): The list of elements to be sorted.\n",
    "\n",
    "    Returns:\n",
    "        None: The list is sorted in place.\n",
    "    \"\"\"\n",
    "    \n",
    "    \n",
    "    if len(arr) > 1:\n",
    "        mid = len(arr) // 2\n",
    "        left_half = arr[:mid]\n",
    "        right_half = arr[mid:]\n",
    "\n",
    "        merge_sort(left_half)\n",
    "        merge_sort(right_half)\n",
    "\n",
    "        _merge(arr, left_half, right_half)\n",
    "\n",
    "\n",
    "\n",
    "def _merge(arr, left_half, right_half):\n",
    "    \n",
    "    \n",
    "    \"\"\"\n",
    "    Description:\n",
    "        Merges two halves of an array into a sorted array.\n",
    "\n",
    "    Parameters:\n",
    "        arr (list): The list to store the merged result.\n",
    "        left_half (list): The left half of the array.\n",
    "        right_half (list): The right half of the array.\n",
    "\n",
    "    Returns:\n",
    "        None: The merged result is stored in `arr`.\n",
    "    \"\"\"\n",
    "    \n",
    "    \n",
    "    i = j = k = 0\n",
    "\n",
    "    while i < len(left_half) and j < len(right_half):\n",
    "        if left_half[i] < right_half[j]:\n",
    "            arr[k] = left_half[i]\n",
    "            i += 1\n",
    "        else:\n",
    "            arr[k] = right_half[j]\n",
    "            j += 1\n",
    "        k += 1\n",
    "\n",
    "    while i < len(left_half):\n",
    "        arr[k] = left_half[i]\n",
    "        i += 1\n",
    "        k += 1\n",
    "\n",
    "    while j < len(right_half):\n",
    "        arr[k] = right_half[j]\n",
    "        j += 1\n",
    "        k += 1\n",
    "\n",
    "\n",
    "def main():\n",
    "\n",
    "    arr = [64, 34, 25, 12, 22, 11, 90]\n",
    "    merge_sort(arr)\n",
    "    print(\"Merge Sort:\", arr)\n",
    "if __name__ == \"__main__\":\n",
    "    main()\n"
   ]
  }
 ],
 "metadata": {
  "kernelspec": {
   "display_name": "Python 3",
   "language": "python",
   "name": "python3"
  },
  "language_info": {
   "codemirror_mode": {
    "name": "ipython",
    "version": 3
   },
   "file_extension": ".py",
   "mimetype": "text/x-python",
   "name": "python",
   "nbconvert_exporter": "python",
   "pygments_lexer": "ipython3",
   "version": "3.12.2"
  }
 },
 "nbformat": 4,
 "nbformat_minor": 2
}
